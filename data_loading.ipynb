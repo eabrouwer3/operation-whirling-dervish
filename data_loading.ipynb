{
 "cells": [
  {
   "cell_type": "code",
   "execution_count": 13,
   "metadata": {},
   "outputs": [],
   "source": [
    "import json\n",
    "\n",
    "import numpy as np\n",
    "import pandas as pd\n",
    "from toolz.curried import *"
   ]
  },
  {
   "cell_type": "code",
   "execution_count": 15,
   "metadata": {},
   "outputs": [],
   "source": [
    "def load_ranking_df():\n",
    "    filename = 'data/rankings.csv'\n",
    "    ranking_df = pd.read_csv(filename)\n",
    "    return ranking_df\n",
    "\n",
    "def load_athlete_df():\n",
    "    filename = 'data/athlete_data.csv'\n",
    "    athlete_df = pd.read_csv(filename)\n",
    "    return athlete_df\n",
    "\n",
    "def load_event_df():\n",
    "    with open('data/athlete_comps.json') as f:\n",
    "        data = json.loads(f.read())\n",
    "        athlete_comp_result = {athlete_id: merge(*[{comp['comp']: comp['result']} for comp in comps]) for athlete_id, comps in data.items()}\n",
    "        event_df = pd.read_json(json.dumps(athlete_comp_result), orient='index')\n",
    "    return event_df"
   ]
  },
  {
   "cell_type": "code",
   "execution_count": 27,
   "metadata": {},
   "outputs": [
    {
     "name": "stdout",
     "output_type": "stream",
     "text": [
      "    Unnamed: 0     ID  Rank       Last Name First Name  Points Event Gender  \\\n",
      "60          59  13867    60      Shevchenko  Vladislav     8.0  lead    MEN   \n",
      "61          60  13491    61             Lee     Sungsu     7.0  lead    MEN   \n",
      "62          61  11183    62            CHON    Jongwon     6.0  lead    MEN   \n",
      "63          62  12078    63           Posch    Mathias     5.0  lead    MEN   \n",
      "64          63  57094    64       Ishimatsu     Taisei     4.0  lead    MEN   \n",
      "65          64  12701    65          Marcus     Nimrod     4.0  lead    MEN   \n",
      "66          65  10404    66       Vettorata  Francesco     3.0  lead    MEN   \n",
      "67          66  11739    67          Takata    Tomoaki     2.0  lead    MEN   \n",
      "68           0  14506     1             Seo   Chaehyun   480.0  lead  WOMEN   \n",
      "69           1  11989     2        Garnbret      Janja   352.0  lead  WOMEN   \n",
      "70           2  66824     3           Tanii    Natsuki   243.0  lead  WOMEN   \n",
      "71           3  13208     4         Rakovec      Lucka   226.0  lead  WOMEN   \n",
      "72           4   6326     5         Noguchi      Akiyo   224.0  lead  WOMEN   \n",
      "73           5  66821     6            Mori         Ai   220.0  lead  WOMEN   \n",
      "74           6  69147     7           Zhang    YueTong   207.0  lead  WOMEN   \n",
      "75           7   5983     8             KIM       Jain   206.0  lead  WOMEN   \n",
      "76           8  13209     9          Krampl        Mia   189.0  lead  WOMEN   \n",
      "77           9   9970    10            Pilz    Jessica   176.0  lead  WOMEN   \n",
      "78          10  61372    11          Hirano    Natsumi   159.0  lead  WOMEN   \n",
      "79          11  10489    12  Thompson-Smith      Molly   152.0  lead  WOMEN   \n",
      "80          12  13960    13       Shiraishi     Ashima   128.0  lead  WOMEN   \n",
      "81          13  13189    14          Rogora      Laura   114.0  lead  WOMEN   \n",
      "82          14   9956    15       Kazbekova  Ievgeniia   102.0  lead  WOMEN   \n",
      "83          15  10620    16          Kotake        Mei   102.0  lead  WOMEN   \n",
      "84          16   5629    17         Schranz  Christine    97.0  lead  WOMEN   \n",
      "85          17  12597    18           Lukan       Vita    94.0  lead  WOMEN   \n",
      "86          18  12039    19          Nonaka       Miho    86.0  lead  WOMEN   \n",
      "87          19   9984    20      Chanourdie      Julia    85.0  lead  WOMEN   \n",
      "88          20  11377    21           Hayes      Margo    79.0  lead  WOMEN   \n",
      "89          21  10888    22           Fiser      Julia    70.0  lead  WOMEN   \n",
      "90          22   9989    23          Gibert      Fanny    68.0  lead  WOMEN   \n",
      "91          23  11397    24          Tajima       Aika    65.0  lead  WOMEN   \n",
      "92          24  10826    25           Kalan      Tjasa    56.0  lead  WOMEN   \n",
      "93          25   9867    26       Verhoeven       Anak    55.0  lead  WOMEN   \n",
      "94          26   5169    27        Markovic       Mina    50.0  lead  WOMEN   \n",
      "95          27  59758    28          Pouget    Camille    49.0  lead  WOMEN   \n",
      "96          28  11374    29          Condie       Kyra    48.0  lead  WOMEN   \n",
      "97          29  60150    30             Ito     Futaba    47.0  lead  WOMEN   \n",
      "98          30  11809    31         Doumont    Heloïse    46.0  lead  WOMEN   \n",
      "99          31  12623    32         Arthaud       Nina    41.0  lead  WOMEN   \n",
      "\n",
      "    Year  \n",
      "60  2019  \n",
      "61  2019  \n",
      "62  2019  \n",
      "63  2019  \n",
      "64  2019  \n",
      "65  2019  \n",
      "66  2019  \n",
      "67  2019  \n",
      "68  2019  \n",
      "69  2019  \n",
      "70  2019  \n",
      "71  2019  \n",
      "72  2019  \n",
      "73  2019  \n",
      "74  2019  \n",
      "75  2019  \n",
      "76  2019  \n",
      "77  2019  \n",
      "78  2019  \n",
      "79  2019  \n",
      "80  2019  \n",
      "81  2019  \n",
      "82  2019  \n",
      "83  2019  \n",
      "84  2019  \n",
      "85  2019  \n",
      "86  2019  \n",
      "87  2019  \n",
      "88  2019  \n",
      "89  2019  \n",
      "90  2019  \n",
      "91  2019  \n",
      "92  2019  \n",
      "93  2019  \n",
      "94  2019  \n",
      "95  2019  \n",
      "96  2019  \n",
      "97  2019  \n",
      "98  2019  \n",
      "99  2019  \n"
     ]
    }
   ],
   "source": [
    "rankings = load_ranking_df()\n",
    "print(rankings[60:100])"
   ]
  },
  {
   "cell_type": "code",
   "execution_count": null,
   "metadata": {},
   "outputs": [],
   "source": []
  }
 ],
 "metadata": {
  "kernelspec": {
   "display_name": "Python 3",
   "language": "python",
   "name": "python3"
  },
  "language_info": {
   "codemirror_mode": {
    "name": "ipython",
    "version": 3
   },
   "file_extension": ".py",
   "mimetype": "text/x-python",
   "name": "python",
   "nbconvert_exporter": "python",
   "pygments_lexer": "ipython3",
   "version": "3.7.7"
  }
 },
 "nbformat": 4,
 "nbformat_minor": 4
}
