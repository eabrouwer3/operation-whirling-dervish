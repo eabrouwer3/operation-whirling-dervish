{
 "cells": [
  {
   "cell_type": "code",
   "execution_count": 2,
   "metadata": {},
   "outputs": [],
   "source": [
    "#Iterative Model\n",
    "import numpy as np\n",
    "import pandas as pd\n",
    "from sklearn.linear_model import Lasso, Ridge, LinearRegression, ElasticNet\n",
    "from sklearn.pipeline import Pipeline\n",
    "from sklearn.preprocessing import OneHotEncoder, LabelEncoder\n",
    "from sklearn.impute import KNNImputer\n",
    "from sklearn.metrics import mean_squared_error, accuracy_score\n",
    "from sklearn.model_selection import GridSearchCV\n",
    "from matplotlib import pyplot as plt\n",
    "from sklearn.tree import DecisionTreeClassifier, DecisionTreeRegressor\n",
    "from sklearn.ensemble import RandomForestRegressor, GradientBoostingRegressor\n",
    "from sklearn.metrics import mean_squared_error "
   ]
  },
  {
   "cell_type": "code",
   "execution_count": 3,
   "metadata": {},
   "outputs": [],
   "source": [
    "def impute(df):\n",
    "    countries = df.country.unique()\n",
    "    #dataset averages\n",
    "    global_h = np.mean(df.height)\n",
    "    global_w = np.mean(df.weight)\n",
    "    global_a = np.mean(df.age)\n",
    "\n",
    "    heights = []\n",
    "    weights = []\n",
    "    ages = []\n",
    "    #steps through each country\n",
    "    for co in countries:\n",
    "        group = df[df['country'] == co]\n",
    "        # counting datapoints within country\n",
    "        count_h = np.count_nonzero(~np.isnan(group.height))\n",
    "        count_w = np.count_nonzero(~np.isnan(group.weight))\n",
    "        count_a = np.count_nonzero(~np.isnan(group.age))\n",
    "        # sets thresholds between accepting the countries average or using dataset average to fill in NaN's\n",
    "        if count_h >= 5:\n",
    "            avg_h = np.mean(group.height)\n",
    "        else:\n",
    "            avg_h = global_h\n",
    "        if count_w >= 5:\n",
    "            avg_w = np.mean(group.weight)\n",
    "        else:\n",
    "            avg_w = global_w\n",
    "        if count_a >= 10:\n",
    "            avg_a = np.mean(group.age)\n",
    "        else:\n",
    "            avg_a = global_a\n",
    "        # steps through each person creating lists to replace current columns in dataframe\n",
    "        for i in range(len(group)):\n",
    "            if np.isnan(group.iloc[i].height):\n",
    "                heights.append(avg_h)\n",
    "            else:\n",
    "                heights.append(group.iloc[i].height)\n",
    "            if np.isnan(group.iloc[i].weight):\n",
    "                weights.append(avg_w)\n",
    "            else:\n",
    "                weights.append(group.iloc[i].weight)\n",
    "            if np.isnan(group.iloc[i].age) or group.iloc[i].age==0:\n",
    "                ages.append(avg_a)\n",
    "            else:\n",
    "                ages.append(group.iloc[i].age)\n",
    "    #replacing columns of dataframe \n",
    "    imputed = df.copy()\n",
    "    imputed['height'] = heights\n",
    "    imputed['weight'] = weights\n",
    "    imputed['age'] = ages\n",
    "    return imputed.fillna(0)"
   ]
  },
  {
   "cell_type": "code",
   "execution_count": 4,
   "metadata": {},
   "outputs": [],
   "source": [
    "#using a iterative model to predict \n",
    "#training and testing data\n",
    "df = pd.read_csv('../data/men_lead_no_drop.csv')\n",
    "# df = df.set_index('id')\n",
    "df = impute(df)"
   ]
  },
  {
   "cell_type": "code",
   "execution_count": 5,
   "metadata": {},
   "outputs": [],
   "source": [
    "#training_data\n",
    "df_ = df.drop(['last_name', 'first_name', 'points', 'rank','country'], axis=1)\n",
    "train = df[df.year<=2014]\n",
    "# id_finder = train[train.year == 2014]\n",
    "# ids = id_finder.id\n",
    "train = train.drop(['id','last_name', 'first_name', 'points', 'rank','country'], axis=1)\n",
    "X_train = train.drop(['avg_points'],axis =1)\n",
    "y_train = train['avg_points']\n",
    "# iteratively stepping through the years\n"
   ]
  },
  {
   "cell_type": "code",
   "execution_count": 6,
   "metadata": {},
   "outputs": [],
   "source": [
    "def Predict_check(start_yr,number_yrs):   \n",
    "    param_grid = {\n",
    "        'alpha': [1e-4, 1e-3, 1e-2, 1e-1, 1e0, 1e1, 1e2, 1e3, 1e4],\n",
    "        'fit_intercept': [True, False],\n",
    "        'normalize': [True, False]\n",
    "    }\n",
    "    model = Ridge(max_iter=100000)\n",
    "    grid = GridSearchCV(model, param_grid, n_jobs=-1, scoring='neg_mean_squared_error').fit(X_train, y_train)\n",
    "    year = df_[df_.year ==start_yr].drop('avg_points',axis = 1)\n",
    "    start_yr_ids = set(year.id)\n",
    "    for _ in range(number_yrs):\n",
    "        pred = grid.predict(year.drop('id',axis = 1))\n",
    "        year['t-1'],year['t-2'],year['t-4'],year['t-5'],year['t-6'],year['t-7'] = pred,year['t-1'],year['t-2'],year['t-4'],year['t-5'],year['t-6']\n",
    "    #finding actuals\n",
    "    year['pred'] = pred\n",
    "    forward_yr_ids = set(df[df.year == start_yr + number_yrs].id)\n",
    "    ids = list(forward_yr_ids.intersection(start_yr_ids))\n",
    "    check_pred = df[df.year == start_yr + number_yrs]\n",
    "    check_pred = check_pred[check_pred['id'].isin(ids)]\n",
    "    pred = year[year['id'].isin(ids)]\n",
    "    return (mean_squared_error(pred.pred,check_pred.avg_points),pred)"
   ]
  },
  {
   "cell_type": "code",
   "execution_count": 7,
   "metadata": {},
   "outputs": [
    {
     "data": {
      "text/plain": [
       "[<matplotlib.lines.Line2D at 0x7fec7191a220>]"
      ]
     },
     "execution_count": 7,
     "metadata": {},
     "output_type": "execute_result"
    },
    {
     "data": {
      "image/png": "[encoded data removed]",
      "text/plain": [
       "<Figure size 432x288 with 1 Axes>"
      ]
     },
     "metadata": {
      "needs_background": "light"
     },
     "output_type": "display_data"
    }
   ],
   "source": [
    "plt.plot([Predict_check(2012,i)[0] for i in range(1,7)])"
   ]
  },
  {
   "cell_type": "code",
   "execution_count": 14,
   "metadata": {},
   "outputs": [],
   "source": [
    "#predicted average score of top 5 people\n",
    "#people who were actually the top 5\n",
    "def predict_table(start_yr,number_yr):\n",
    "    prediction = Predict_check(start_yr,number_yr)[1]\n",
    "    ids = list(prediction.id)\n",
    "    avg = list(prediction.pred)\n",
    "    avg, ids = zip(*sorted(zip(avg, ids)))\n",
    "    ids = list(ids)\n",
    "    avg = list(avg)\n",
    "    avg.reverse()\n",
    "    f_name=[]\n",
    "    l_name = []\n",
    "    actual_avg = []\n",
    "    ranks = []\n",
    "    for i in range(1,len(avg)+1):\n",
    "        f_name.append(df[df['id']==ids[-i]]['first_name'].iloc[0])\n",
    "        l_name.append(df[df['id']==ids[-i]]['last_name'].iloc[0])\n",
    "        trim = df[df.year == start_yr+number_yr]\n",
    "        trim_ = list(trim[trim.id == ids[-i]].avg_points)[0]\n",
    "        rank = list(trim[trim.id == ids[-i]]['rank'])[0]\n",
    "        ranks.append(rank)\n",
    "        actual_avg.append(trim_)\n",
    "    Frame = pd.DataFrame(list(zip(f_name,l_name,avg,actual_avg,ranks)),columns = ['First Name','Last Name','Predicted Average','Actual Average','Actual Rank'])\n",
    "    Frame['Difference in Averages'] = np.abs(Frame['Predicted Average'] - Frame['Actual Average'])\n",
    "    return Frame"
   ]
  },
  {
   "cell_type": "code",
   "execution_count": 17,
   "metadata": {},
   "outputs": [
    {
     "data": {
      "text/plain": [
       "'|    | First Name   | Last Name   |   Predicted Average |   Actual Average |   Actual Rank |   Difference in Averages |\\n|---:|:-------------|:------------|--------------------:|-----------------:|--------------:|-------------------------:|\\n|  0 | Jakob        | Schubert    |             63.0651 |          44      |            14 |                 19.0651  |\\n|  1 | Adam         | Ondra       |             57.0388 |         100      |             1 |                 42.9612  |\\n|  2 | Domen        | Skofic      |             44.3178 |          36.6667 |            22 |                  7.65118 |\\n|  3 | Stefano      | Ghisolfi    |             43.8053 |          31.6667 |             5 |                 12.1386  |\\n|  4 | Sean         | McColl      |             42.5345 |          34.3333 |             3 |                  8.20118 |'"
      ]
     },
     "execution_count": 17,
     "metadata": {},
     "output_type": "execute_result"
    }
   ],
   "source": [
    "predict_table(2014,5).head().to_markdown()"
   ]
  },
  {
   "cell_type": "code",
   "execution_count": 361,
   "metadata": {},
   "outputs": [],
   "source": [
    "def predict(number_yrs):\n",
    "    start_yr = 2019\n",
    "    param_grid = {\n",
    "    'alpha': [1e-4, 1e-3, 1e-2, 1e-1, 1e0, 1e1, 1e2, 1e3, 1e4],\n",
    "    'fit_intercept': [True, False],\n",
    "    'normalize': [True, False]\n",
    "    }\n",
    "    model = Ridge(max_iter=100000)\n",
    "    grid = GridSearchCV(model, param_grid, n_jobs=-1, scoring='neg_mean_squared_error').fit(X_train, y_train)\n",
    "    year = df_[df_.year ==start_yr].drop('avg_points',axis = 1)\n",
    "    start_yr_ids = set(year.id)\n",
    "    for _ in range(number_yrs):\n",
    "        pred = grid.predict(year.drop('id',axis = 1))\n",
    "        year['t-1'],year['t-2'],year['t-4'],year['t-5'],year['t-6'],year['t-7'] = pred,year['t-1'],year['t-2'],year['t-4'],year['t-5'],year['t-6']\n",
    "    year['avg_points'] = pred\n",
    "    \n",
    "    \n",
    "    ids = list(year.id)\n",
    "    avg = list(year.avg_points)\n",
    "    avg, ids = zip(*sorted(zip(avg, ids)))\n",
    "    ids = list(ids)\n",
    "    avg = list(avg)\n",
    "    avg.reverse()\n",
    "    f_name=[]\n",
    "    l_name = []\n",
    "    actual_avg = []\n",
    "    for i in range(1,len(avg)+1):\n",
    "        f_name.append(df[df['id']==ids[-i]]['first_name'].iloc[0])\n",
    "        l_name.append(df[df['id']==ids[-i]]['last_name'].iloc[0])\n",
    "    Frame = pd.DataFrame(list(zip(f_name,l_name,avg)),columns = ['First_Name','Last_Name','Predicted_avg'])\n",
    "    Frame['year'] = start_yr+number_yrs\n",
    "    return Frame.iloc[:10]\n",
    "    "
   ]
  },
  {
   "cell_type": "code",
   "execution_count": 362,
   "metadata": {},
   "outputs": [
    {
     "data": {
      "text/html": [
       "<div>\n",
       "<style scoped>\n",
       "    .dataframe tbody tr th:only-of-type {\n",
       "        vertical-align: middle;\n",
       "    }\n",
       "\n",
       "    .dataframe tbody tr th {\n",
       "        vertical-align: top;\n",
       "    }\n",
       "\n",
       "    .dataframe thead th {\n",
       "        text-align: right;\n",
       "    }\n",
       "</style>\n",
       "<table border=\"1\" class=\"dataframe\">\n",
       "  <thead>\n",
       "    <tr style=\"text-align: right;\">\n",
       "      <th></th>\n",
       "      <th>First_Name</th>\n",
       "      <th>Last_Name</th>\n",
       "      <th>Predicted_avg</th>\n",
       "      <th>year</th>\n",
       "    </tr>\n",
       "  </thead>\n",
       "  <tbody>\n",
       "    <tr>\n",
       "      <th>0</th>\n",
       "      <td>Jakob</td>\n",
       "      <td>Schubert</td>\n",
       "      <td>46.901403</td>\n",
       "      <td>2021</td>\n",
       "    </tr>\n",
       "    <tr>\n",
       "      <th>1</th>\n",
       "      <td>Stefano</td>\n",
       "      <td>Ghisolfi</td>\n",
       "      <td>45.415122</td>\n",
       "      <td>2021</td>\n",
       "    </tr>\n",
       "    <tr>\n",
       "      <th>2</th>\n",
       "      <td>Adam</td>\n",
       "      <td>Ondra</td>\n",
       "      <td>44.386707</td>\n",
       "      <td>2021</td>\n",
       "    </tr>\n",
       "    <tr>\n",
       "      <th>3</th>\n",
       "      <td>Dmitrii</td>\n",
       "      <td>Fakiryanov</td>\n",
       "      <td>41.951768</td>\n",
       "      <td>2021</td>\n",
       "    </tr>\n",
       "    <tr>\n",
       "      <th>4</th>\n",
       "      <td>Domen</td>\n",
       "      <td>Skofic</td>\n",
       "      <td>36.158597</td>\n",
       "      <td>2021</td>\n",
       "    </tr>\n",
       "    <tr>\n",
       "      <th>5</th>\n",
       "      <td>Romain</td>\n",
       "      <td>Desgranges</td>\n",
       "      <td>32.969185</td>\n",
       "      <td>2021</td>\n",
       "    </tr>\n",
       "    <tr>\n",
       "      <th>6</th>\n",
       "      <td>Sean</td>\n",
       "      <td>Bailey</td>\n",
       "      <td>32.562050</td>\n",
       "      <td>2021</td>\n",
       "    </tr>\n",
       "    <tr>\n",
       "      <th>7</th>\n",
       "      <td>Alberto</td>\n",
       "      <td>Ginés López</td>\n",
       "      <td>31.146307</td>\n",
       "      <td>2021</td>\n",
       "    </tr>\n",
       "    <tr>\n",
       "      <th>8</th>\n",
       "      <td>Alexander</td>\n",
       "      <td>Megos</td>\n",
       "      <td>31.117234</td>\n",
       "      <td>2021</td>\n",
       "    </tr>\n",
       "    <tr>\n",
       "      <th>9</th>\n",
       "      <td>Yuki</td>\n",
       "      <td>Hada</td>\n",
       "      <td>29.370396</td>\n",
       "      <td>2021</td>\n",
       "    </tr>\n",
       "  </tbody>\n",
       "</table>\n",
       "</div>"
      ],
      "text/plain": [
       "  First_Name    Last_Name  Predicted_avg  year\n",
       "0      Jakob     Schubert      46.901403  2021\n",
       "1    Stefano     Ghisolfi      45.415122  2021\n",
       "2       Adam        Ondra      44.386707  2021\n",
       "3    Dmitrii   Fakiryanov      41.951768  2021\n",
       "4      Domen       Skofic      36.158597  2021\n",
       "5     Romain   Desgranges      32.969185  2021\n",
       "6       Sean       Bailey      32.562050  2021\n",
       "7    Alberto  Ginés López      31.146307  2021\n",
       "8  Alexander        Megos      31.117234  2021\n",
       "9       Yuki         Hada      29.370396  2021"
      ]
     },
     "execution_count": 362,
     "metadata": {},
     "output_type": "execute_result"
    }
   ],
   "source": [
    "predict(2)"
   ]
  },
  {
   "cell_type": "code",
   "execution_count": null,
   "metadata": {},
   "outputs": [],
   "source": []
  }
 ],
 "metadata": {
  "kernelspec": {
   "display_name": "Python 3",
   "language": "python",
   "name": "python3"
  },
  "language_info": {
   "codemirror_mode": {
    "name": "ipython",
    "version": 3
   },
   "file_extension": ".py",
   "mimetype": "text/x-python",
   "name": "python",
   "nbconvert_exporter": "python",
   "pygments_lexer": "ipython3",
   "version": "3.8.2"
  }
 },
 "nbformat": 4,
 "nbformat_minor": 4
}
