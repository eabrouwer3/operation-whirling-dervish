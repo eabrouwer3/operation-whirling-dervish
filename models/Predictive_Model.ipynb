{
 "cells": [
  {
   "cell_type": "code",
   "execution_count": 226,
   "metadata": {},
   "outputs": [],
   "source": [
    "#Iterative Model\n",
    "import numpy as np\n",
    "import pandas as pd\n",
    "from sklearn.linear_model import Lasso, Ridge, LinearRegression, ElasticNet\n",
    "from sklearn.pipeline import Pipeline\n",
    "from sklearn.preprocessing import OneHotEncoder, LabelEncoder\n",
    "from sklearn.impute import KNNImputer\n",
    "from sklearn.metrics import mean_squared_error, accuracy_score\n",
    "from sklearn.model_selection import GridSearchCV\n",
    "from matplotlib import pyplot as plt\n",
    "from sklearn.tree import DecisionTreeClassifier, DecisionTreeRegressor\n",
    "from sklearn.ensemble import RandomForestRegressor, GradientBoostingRegressor\n",
    "from sklearn.metrics import mean_squared_error "
   ]
  },
  {
   "cell_type": "code",
   "execution_count": 262,
   "metadata": {},
   "outputs": [],
   "source": [
    "def impute(df):\n",
    "    countries = df.country.unique()\n",
    "    #dataset averages\n",
    "    global_h = np.mean(df.height)\n",
    "    global_w = np.mean(df.weight)\n",
    "    global_a = np.mean(df.age)\n",
    "\n",
    "    heights = []\n",
    "    weights = []\n",
    "    ages = []\n",
    "    #steps through each country\n",
    "    for co in countries:\n",
    "        group = df[df['country'] == co]\n",
    "        # counting datapoints within country\n",
    "        count_h = np.count_nonzero(~np.isnan(group.height))\n",
    "        count_w = np.count_nonzero(~np.isnan(group.weight))\n",
    "        count_a = np.count_nonzero(~np.isnan(group.age))\n",
    "        # sets thresholds between accepting the countries average or using dataset average to fill in NaN's\n",
    "        if count_h >= 5:\n",
    "            avg_h = np.mean(group.height)\n",
    "        else:\n",
    "            avg_h = global_h\n",
    "        if count_w >= 5:\n",
    "            avg_w = np.mean(group.weight)\n",
    "        else:\n",
    "            avg_w = global_w\n",
    "        if count_a >= 10:\n",
    "            avg_a = np.mean(group.age)\n",
    "        else:\n",
    "            avg_a = global_a\n",
    "        # steps through each person creating lists to replace current columns in dataframe\n",
    "        for i in range(len(group)):\n",
    "            if np.isnan(group.iloc[i].height):\n",
    "                heights.append(avg_h)\n",
    "            else:\n",
    "                heights.append(group.iloc[i].height)\n",
    "            if np.isnan(group.iloc[i].weight):\n",
    "                weights.append(avg_w)\n",
    "            else:\n",
    "                weights.append(group.iloc[i].weight)\n",
    "            if np.isnan(group.iloc[i].age) or group.iloc[i].age==0:\n",
    "                ages.append(avg_a)\n",
    "            else:\n",
    "                ages.append(group.iloc[i].age)\n",
    "    #replacing columns of dataframe \n",
    "    imputed = df.copy()\n",
    "    imputed['height'] = heights\n",
    "    imputed['weight'] = weights\n",
    "    imputed['age'] = ages\n",
    "    return imputed.fillna(0)"
   ]
  },
  {
   "cell_type": "code",
   "execution_count": 263,
   "metadata": {},
   "outputs": [],
   "source": [
    "#using a iterative model to predict \n",
    "#training and testing data\n",
    "df = pd.read_csv('../data/men_lead_no_drop.csv')\n",
    "# df = df.set_index('id')\n",
    "df = impute(df)"
   ]
  },
  {
   "cell_type": "code",
   "execution_count": 264,
   "metadata": {},
   "outputs": [],
   "source": [
    "#training_data\n",
    "df_ = df.drop(['last_name', 'first_name', 'points', 'rank','country'], axis=1)\n",
    "train = df[df.year<=2014]\n",
    "# id_finder = train[train.year == 2014]\n",
    "# ids = id_finder.id\n",
    "train = train.drop(['id','last_name', 'first_name', 'points', 'rank','country'], axis=1)\n",
    "X_train = train.drop(['avg_points'],axis =1)\n",
    "y_train = train['avg_points']\n",
    "# iteratively stepping through the years\n"
   ]
  },
  {
   "cell_type": "code",
   "execution_count": 280,
   "metadata": {},
   "outputs": [],
   "source": [
    "def Predict_check(start_yr,number_yrs):   \n",
    "    param_grid = {\n",
    "        'alpha': [1e-4, 1e-3, 1e-2, 1e-1, 1e0, 1e1, 1e2, 1e3, 1e4],\n",
    "        'fit_intercept': [True, False],\n",
    "        'normalize': [True, False]\n",
    "    }\n",
    "    model = Ridge(max_iter=100000)\n",
    "    grid = GridSearchCV(model, param_grid, n_jobs=-1, scoring='neg_mean_squared_error').fit(X_train, y_train)\n",
    "    year = df_[df_.year ==start_yr].drop('avg_points',axis = 1)\n",
    "    start_yr_ids = set(year.id)\n",
    "    for _ in range(number_yrs):\n",
    "        pred = grid.predict(year.drop('id',axis = 1))\n",
    "        year['t-1'],year['t-2'],year['t-4'],year['t-5'],year['t-6'],year['t-7'] = pred,year['t-1'],year['t-2'],year['t-4'],year['t-5'],year['t-6']\n",
    "    #finding actuals\n",
    "    year['pred'] = pred\n",
    "    forward_yr_ids = set(df[df.year == start_yr + number_yrs].id)\n",
    "    ids = list(forward_yr_ids.intersection(start_yr_ids))\n",
    "    check_pred = df[df.year == start_yr + number_yrs]\n",
    "    check_pred = check_pred[check_pred['id'].isin(ids)]\n",
    "    pred = year[year['id'].isin(ids)]\n",
    "    print(len(pred))\n",
    "    return (mean_squared_error(pred.pred,check_pred.avg_points))"
   ]
  },
  {
   "cell_type": "code",
   "execution_count": 281,
   "metadata": {},
   "outputs": [
    {
     "name": "stdout",
     "output_type": "stream",
     "text": [
      "46\n",
      "43\n",
      "31\n",
      "28\n",
      "21\n",
      "18\n"
     ]
    },
    {
     "data": {
      "text/plain": [
       "[<matplotlib.lines.Line2D at 0x16d29cb4888>]"
      ]
     },
     "execution_count": 281,
     "metadata": {},
     "output_type": "execute_result"
    },
    {
     "data": {
      "image/png": "[encoded data removed]",
      "text/plain": [
       "<Figure size 432x288 with 1 Axes>"
      ]
     },
     "metadata": {
      "needs_background": "light"
     },
     "output_type": "display_data"
    }
   ],
   "source": [
    "plt.plot([Predict_check(2012,i) for i in range(1,7)])"
   ]
  },
  {
   "cell_type": "code",
   "execution_count": 279,
   "metadata": {},
   "outputs": [
    {
     "ename": "UnboundLocalError",
     "evalue": "local variable 'pred' referenced before assignment",
     "output_type": "error",
     "traceback": [
      "\u001b[1;31m---------------------------------------------------------------------------\u001b[0m",
      "\u001b[1;31mUnboundLocalError\u001b[0m                         Traceback (most recent call last)",
      "\u001b[1;32m<ipython-input-279-d73be9d98a9b>\u001b[0m in \u001b[0;36m<module>\u001b[1;34m\u001b[0m\n\u001b[1;32m----> 1\u001b[1;33m \u001b[0mPredict_check\u001b[0m\u001b[1;33m(\u001b[0m\u001b[1;36m2012\u001b[0m\u001b[1;33m,\u001b[0m\u001b[1;36m0\u001b[0m\u001b[1;33m)\u001b[0m\u001b[1;33m\u001b[0m\u001b[1;33m\u001b[0m\u001b[0m\n\u001b[0m",
      "\u001b[1;32m<ipython-input-276-438b2b5e31a5>\u001b[0m in \u001b[0;36mPredict_check\u001b[1;34m(start_yr, number_yrs)\u001b[0m\n\u001b[0;32m     13\u001b[0m         \u001b[0myear\u001b[0m\u001b[1;33m[\u001b[0m\u001b[1;34m't-1'\u001b[0m\u001b[1;33m]\u001b[0m\u001b[1;33m,\u001b[0m\u001b[0myear\u001b[0m\u001b[1;33m[\u001b[0m\u001b[1;34m't-2'\u001b[0m\u001b[1;33m]\u001b[0m\u001b[1;33m,\u001b[0m\u001b[0myear\u001b[0m\u001b[1;33m[\u001b[0m\u001b[1;34m't-4'\u001b[0m\u001b[1;33m]\u001b[0m\u001b[1;33m,\u001b[0m\u001b[0myear\u001b[0m\u001b[1;33m[\u001b[0m\u001b[1;34m't-5'\u001b[0m\u001b[1;33m]\u001b[0m\u001b[1;33m,\u001b[0m\u001b[0myear\u001b[0m\u001b[1;33m[\u001b[0m\u001b[1;34m't-6'\u001b[0m\u001b[1;33m]\u001b[0m\u001b[1;33m,\u001b[0m\u001b[0myear\u001b[0m\u001b[1;33m[\u001b[0m\u001b[1;34m't-7'\u001b[0m\u001b[1;33m]\u001b[0m \u001b[1;33m=\u001b[0m \u001b[0mpred\u001b[0m\u001b[1;33m,\u001b[0m\u001b[0myear\u001b[0m\u001b[1;33m[\u001b[0m\u001b[1;34m't-1'\u001b[0m\u001b[1;33m]\u001b[0m\u001b[1;33m,\u001b[0m\u001b[0myear\u001b[0m\u001b[1;33m[\u001b[0m\u001b[1;34m't-2'\u001b[0m\u001b[1;33m]\u001b[0m\u001b[1;33m,\u001b[0m\u001b[0myear\u001b[0m\u001b[1;33m[\u001b[0m\u001b[1;34m't-4'\u001b[0m\u001b[1;33m]\u001b[0m\u001b[1;33m,\u001b[0m\u001b[0myear\u001b[0m\u001b[1;33m[\u001b[0m\u001b[1;34m't-5'\u001b[0m\u001b[1;33m]\u001b[0m\u001b[1;33m,\u001b[0m\u001b[0myear\u001b[0m\u001b[1;33m[\u001b[0m\u001b[1;34m't-6'\u001b[0m\u001b[1;33m]\u001b[0m\u001b[1;33m\u001b[0m\u001b[1;33m\u001b[0m\u001b[0m\n\u001b[0;32m     14\u001b[0m     \u001b[1;31m#finding actuals\u001b[0m\u001b[1;33m\u001b[0m\u001b[1;33m\u001b[0m\u001b[1;33m\u001b[0m\u001b[0m\n\u001b[1;32m---> 15\u001b[1;33m     \u001b[0myear\u001b[0m\u001b[1;33m[\u001b[0m\u001b[1;34m'pred'\u001b[0m\u001b[1;33m]\u001b[0m \u001b[1;33m=\u001b[0m \u001b[0mpred\u001b[0m\u001b[1;33m\u001b[0m\u001b[1;33m\u001b[0m\u001b[0m\n\u001b[0m\u001b[0;32m     16\u001b[0m     \u001b[0mforward_yr_ids\u001b[0m \u001b[1;33m=\u001b[0m \u001b[0mset\u001b[0m\u001b[1;33m(\u001b[0m\u001b[0mdf\u001b[0m\u001b[1;33m[\u001b[0m\u001b[0mdf\u001b[0m\u001b[1;33m.\u001b[0m\u001b[0myear\u001b[0m \u001b[1;33m==\u001b[0m \u001b[0mstart_yr\u001b[0m \u001b[1;33m+\u001b[0m \u001b[0mnumber_yrs\u001b[0m\u001b[1;33m]\u001b[0m\u001b[1;33m.\u001b[0m\u001b[0mid\u001b[0m\u001b[1;33m)\u001b[0m\u001b[1;33m\u001b[0m\u001b[1;33m\u001b[0m\u001b[0m\n\u001b[0;32m     17\u001b[0m     \u001b[0mids\u001b[0m \u001b[1;33m=\u001b[0m \u001b[0mlist\u001b[0m\u001b[1;33m(\u001b[0m\u001b[0mforward_yr_ids\u001b[0m\u001b[1;33m.\u001b[0m\u001b[0mintersection\u001b[0m\u001b[1;33m(\u001b[0m\u001b[0mstart_yr_ids\u001b[0m\u001b[1;33m)\u001b[0m\u001b[1;33m)\u001b[0m\u001b[1;33m\u001b[0m\u001b[1;33m\u001b[0m\u001b[0m\n",
      "\u001b[1;31mUnboundLocalError\u001b[0m: local variable 'pred' referenced before assignment"
     ]
    }
   ],
   "source": [
    "#predicted average score of top 5 people\n",
    "#people who were actually the top 5"
   ]
  },
  {
   "cell_type": "code",
   "execution_count": null,
   "metadata": {},
   "outputs": [],
   "source": []
  }
 ],
 "metadata": {
  "kernelspec": {
   "display_name": "Python 3",
   "language": "python",
   "name": "python3"
  },
  "language_info": {
   "codemirror_mode": {
    "name": "ipython",
    "version": 3
   },
   "file_extension": ".py",
   "mimetype": "text/x-python",
   "name": "python",
   "nbconvert_exporter": "python",
   "pygments_lexer": "ipython3",
   "version": "3.7.7"
  }
 },
 "nbformat": 4,
 "nbformat_minor": 4
}
