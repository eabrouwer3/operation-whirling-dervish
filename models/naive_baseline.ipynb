{
 "cells": [
  {
   "cell_type": "code",
   "execution_count": 6,
   "metadata": {},
   "outputs": [],
   "source": [
    "import numpy as np\n",
    "import pandas as pd\n",
    "import matplotlib.pyplot as plt\n",
    "from sklearn.metrics import mean_squared_error"
   ]
  },
  {
   "cell_type": "code",
   "execution_count": 8,
   "metadata": {},
   "outputs": [],
   "source": [
    "df = pd.read_pickle('../data/men_lead_lag7.pkl')\n",
    "dummies = pd.get_dummies(df['country'], prefix='c_')\n",
    "df = pd.concat([df, dummies], axis=1)\n",
    "y = df['avg_points']\n",
    "lag_cols = [f't-{i}' for i in range(1, 8)]\n",
    "for col in lag_cols:\n",
    "    df[col] = df[col].fillna(0)\n",
    "    \n",
    "# Impute missing values using the median\n",
    "df['height'] = df['height'].fillna(df['height'].median())\n",
    "df['weight'] = df['weight'].fillna(df['weight'].median())\n",
    "df['age'] = df['age'].fillna(df['age'].median())\n",
    "X = df.copy()\n",
    "\n",
    "X_train = X[X['Year'].isin(np.arange(1991, 2019))]#.to_numpy()\n",
    "y_train = y[X['Year'].isin(np.arange(1991, 2019))]#.to_numpy()\n",
    "X_test = X[X['Year'].isin(np.arange(2019, 2020))]#.to_numpy()\n",
    "y_test = y[X['Year'].isin(np.arange(2019, 2020))]#.to_numpy()\n",
    "X_train = X_train.drop(columns='Year')\n",
    "X_test = X_test.drop(columns='Year')"
   ]
  },
  {
   "cell_type": "code",
   "execution_count": 11,
   "metadata": {},
   "outputs": [
    {
     "name": "stdout",
     "output_type": "stream",
     "text": [
      "439.46841887501273\n"
     ]
    }
   ],
   "source": [
    "preds = X_test['t-1']\n",
    "\n",
    "mse = mean_squared_error(y_test, preds)\n",
    "print(mse)"
   ]
  },
  {
   "cell_type": "code",
   "execution_count": null,
   "metadata": {},
   "outputs": [],
   "source": []
  }
 ],
 "metadata": {
  "kernelspec": {
   "display_name": "Python 3",
   "language": "python",
   "name": "python3"
  },
  "language_info": {
   "codemirror_mode": {
    "name": "ipython",
    "version": 3
   },
   "file_extension": ".py",
   "mimetype": "text/x-python",
   "name": "python",
   "nbconvert_exporter": "python",
   "pygments_lexer": "ipython3",
   "version": "3.8.2"
  }
 },
 "nbformat": 4,
 "nbformat_minor": 4
}
