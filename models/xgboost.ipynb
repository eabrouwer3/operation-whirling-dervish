{
 "cells": [
  {
   "cell_type": "code",
   "execution_count": 48,
   "metadata": {},
   "outputs": [],
   "source": [
    "import numpy as np\n",
    "import pandas as pd\n",
    "from sklearn.linear_model import Lasso, Ridge, LinearRegression, ElasticNet\n",
    "from sklearn.pipeline import Pipeline\n",
    "from sklearn.preprocessing import OneHotEncoder, LabelEncoder\n",
    "from sklearn.impute import KNNImputer\n",
    "from sklearn.metrics import mean_squared_error, accuracy_score\n",
    "from sklearn.model_selection import GridSearchCV, ParameterGrid, KFold\n",
    "from matplotlib import pyplot as plt\n",
    "from sklearn.tree import DecisionTreeClassifier, DecisionTreeRegressor\n",
    "from sklearn.ensemble import RandomForestRegressor, GradientBoostingRegressor\n",
    "\n",
    "from xgboost import XGBRegressor\n",
    "from tqdm import tqdm"
   ]
  },
  {
   "cell_type": "code",
   "execution_count": 52,
   "metadata": {},
   "outputs": [],
   "source": [
    "def impute(df):\n",
    "    countries = df.country.unique()\n",
    "    #dataset averages\n",
    "    global_h = np.mean(df.height)\n",
    "    global_w = np.mean(df.weight)\n",
    "    global_a = np.mean(df.age)\n",
    "\n",
    "    heights = []\n",
    "    weights = []\n",
    "    ages = []\n",
    "    #steps through each country\n",
    "    for co in countries:\n",
    "        group = df[df['country'] == co]\n",
    "        # counting datapoints within country\n",
    "        count_h = np.count_nonzero(~np.isnan(group.height))\n",
    "        count_w = np.count_nonzero(~np.isnan(group.weight))\n",
    "        count_a = np.count_nonzero(~np.isnan(group.age))\n",
    "        # sets thresholds between accepting the countries average or using dataset average to fill in NaN's\n",
    "        if count_h >= 5:\n",
    "            avg_h = np.mean(group.height)\n",
    "        else:\n",
    "            avg_h = global_h\n",
    "        if count_w >= 5:\n",
    "            avg_w = np.mean(group.weight)\n",
    "        else:\n",
    "            avg_w = global_w\n",
    "        if count_a >= 10:\n",
    "            avg_a = np.mean(group.age)\n",
    "        else:\n",
    "            avg_a = global_a\n",
    "        # steps through each person creating lists to replace current columns in dataframe\n",
    "        for i in range(len(group)):\n",
    "            if np.isnan(group.iloc[i].height):\n",
    "                heights.append(avg_h)\n",
    "            else:\n",
    "                heights.append(group.iloc[i].height)\n",
    "            if np.isnan(group.iloc[i].weight):\n",
    "                weights.append(avg_w)\n",
    "            else:\n",
    "                weights.append(group.iloc[i].weight)\n",
    "            if np.isnan(group.iloc[i].age) or group.iloc[i].age==0:\n",
    "                ages.append(avg_a)\n",
    "            else:\n",
    "                ages.append(group.iloc[i].age)\n",
    "    #replacing columns of dataframe \n",
    "    imputed = df.copy()\n",
    "    imputed['height'] = heights\n",
    "    imputed['weight'] = weights\n",
    "    imputed['age'] = ages\n",
    "    return imputed.fillna(0)"
   ]
  },
  {
   "cell_type": "code",
   "execution_count": 53,
   "metadata": {},
   "outputs": [],
   "source": [
    "df = pd.read_csv('../data/men_lead_no_drop.csv')\n",
    "df = impute(df)\n",
    "df = df.drop(['id', 'last_name', 'first_name', 'points', 'rank', \n",
    "              'Unnamed: 20', 'Unnamed: 21', 'event_count'], axis=1)\n",
    "\n",
    "# TODO: I need to drop the extra 0 columns\n",
    "# TODO: try to drop some of the lag columns\n",
    "df = pd.get_dummies(df)\n",
    "\n",
    "test = df[df['year'] >= 2019]\n",
    "X_test = test.drop(['avg_points'], axis=1)\n",
    "y_test = test['avg_points']\n",
    "\n",
    "train = df[df['year'] <= 2018]\n",
    "X_train = train.drop(['avg_points'], axis=1)\n",
    "y_train = train['avg_points']"
   ]
  },
  {
   "cell_type": "code",
   "execution_count": 58,
   "metadata": {},
   "outputs": [
    {
     "name": "stderr",
     "output_type": "stream",
     "text": [
      "100%|██████████| 540/540 [09:43<00:00,  1.08s/it]"
     ]
    },
    {
     "name": "stdout",
     "output_type": "stream",
     "text": [
      "298.3211621172526\n"
     ]
    },
    {
     "name": "stderr",
     "output_type": "stream",
     "text": [
      "\n"
     ]
    }
   ],
   "source": [
    "param_grid = ParameterGrid({'alpha': [0, .5, 1],\n",
    "                            'gamma': [0, .5, 1],\n",
    "                            'lambda': [0, .5, 1],\n",
    "                            'eta': [.1, .3, .6, .9],\n",
    "                            'max_depth': [1, 2, 6, 10, None]})\n",
    "\n",
    "best_params = None\n",
    "best_error = np.inf\n",
    "\n",
    "for params in tqdm(param_grid):\n",
    "    kf = KFold(n_splits=5)\n",
    "    for train_idx, test_idx in kf.split(X_train):\n",
    "        X_fold_train, X_fold_test = X_train.iloc[train_idx], X_train.iloc[test_idx]\n",
    "        y_fold_train, y_fold_test = y_train.iloc[train_idx], y_train.iloc[test_idx]\n",
    "        \n",
    "        clf = XGBRegressor(objective='reg:squarederror')\n",
    "        clf.fit(X_fold_train, y_fold_train)\n",
    "        preds = clf.predict(X_fold_test)\n",
    "        error = mean_squared_error(y_fold_test, preds)\n",
    "        if error < best_error:\n",
    "            best_error = error\n",
    "            best_params = params\n",
    "print(error)"
   ]
  },
  {
   "cell_type": "code",
   "execution_count": 59,
   "metadata": {},
   "outputs": [
    {
     "name": "stdout",
     "output_type": "stream",
     "text": [
      "{'alpha': 0, 'eta': 0.1, 'gamma': 0, 'lambda': 0, 'max_depth': 1}\n"
     ]
    }
   ],
   "source": [
    "print(best_params)"
   ]
  },
  {
   "cell_type": "code",
   "execution_count": null,
   "metadata": {},
   "outputs": [],
   "source": []
  }
 ],
 "metadata": {
  "kernelspec": {
   "display_name": "Python 3",
   "language": "python",
   "name": "python3"
  },
  "language_info": {
   "codemirror_mode": {
    "name": "ipython",
    "version": 3
   },
   "file_extension": ".py",
   "mimetype": "text/x-python",
   "name": "python",
   "nbconvert_exporter": "python",
   "pygments_lexer": "ipython3",
   "version": "3.7.7"
  }
 },
 "nbformat": 4,
 "nbformat_minor": 4
}
