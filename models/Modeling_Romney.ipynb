{
 "cells": [
  {
   "cell_type": "code",
   "execution_count": 68,
   "metadata": {},
   "outputs": [],
   "source": [
    "import numpy as np\n",
    "import pandas as pd\n",
    "from sklearn.linear_model import LinearRegression\n",
    "from matplotlib import pyplot as plt\n",
    "from sklearn.model_selection import cross_val_score\n",
    "from sklearn.tree import DecisionTreeRegressor\n",
    "from sklearn.model_selection import GridSearchCV\n",
    "from sklearn.metrics import mean_squared_error\n"
   ]
  },
  {
   "cell_type": "code",
   "execution_count": 42,
   "metadata": {},
   "outputs": [],
   "source": [
    "M_Lead_Lag=pd.read_csv('..\\data\\men_lead_lag7.csv')\n",
    "M_lead = M_Lead_Lag.copy()"
   ]
  },
  {
   "cell_type": "code",
   "execution_count": 43,
   "metadata": {},
   "outputs": [
    {
     "data": {
      "text/html": [
       "<div>\n",
       "<style scoped>\n",
       "    .dataframe tbody tr th:only-of-type {\n",
       "        vertical-align: middle;\n",
       "    }\n",
       "\n",
       "    .dataframe tbody tr th {\n",
       "        vertical-align: top;\n",
       "    }\n",
       "\n",
       "    .dataframe thead th {\n",
       "        text-align: right;\n",
       "    }\n",
       "</style>\n",
       "<table border=\"1\" class=\"dataframe\">\n",
       "  <thead>\n",
       "    <tr style=\"text-align: right;\">\n",
       "      <th></th>\n",
       "      <th>Unnamed: 0</th>\n",
       "      <th>ID</th>\n",
       "      <th>Rank</th>\n",
       "      <th>Last Name</th>\n",
       "      <th>First Name</th>\n",
       "      <th>Points</th>\n",
       "      <th>Year</th>\n",
       "      <th>country</th>\n",
       "      <th>height</th>\n",
       "      <th>weight</th>\n",
       "      <th>age</th>\n",
       "      <th>event_count</th>\n",
       "      <th>avg_points</th>\n",
       "      <th>t-1</th>\n",
       "      <th>t-2</th>\n",
       "      <th>t-3</th>\n",
       "      <th>t-4</th>\n",
       "      <th>t-5</th>\n",
       "      <th>t-6</th>\n",
       "      <th>t-7</th>\n",
       "    </tr>\n",
       "  </thead>\n",
       "  <tbody>\n",
       "    <tr>\n",
       "      <th>0</th>\n",
       "      <td>0</td>\n",
       "      <td>8372</td>\n",
       "      <td>1</td>\n",
       "      <td>Ondra</td>\n",
       "      <td>Adam</td>\n",
       "      <td>300.0</td>\n",
       "      <td>2019</td>\n",
       "      <td>CZE</td>\n",
       "      <td>185.0</td>\n",
       "      <td>67.0</td>\n",
       "      <td>26.0</td>\n",
       "      <td>3</td>\n",
       "      <td>100.0</td>\n",
       "      <td>55.000000</td>\n",
       "      <td>80.0</td>\n",
       "      <td>51.000000</td>\n",
       "      <td>76.333333</td>\n",
       "      <td>61.142857</td>\n",
       "      <td>90.000000</td>\n",
       "      <td>18.000</td>\n",
       "    </tr>\n",
       "    <tr>\n",
       "      <th>1</th>\n",
       "      <td>1</td>\n",
       "      <td>56609</td>\n",
       "      <td>2</td>\n",
       "      <td>Ginés López</td>\n",
       "      <td>Alberto</td>\n",
       "      <td>256.0</td>\n",
       "      <td>2019</td>\n",
       "      <td>ESP</td>\n",
       "      <td>NaN</td>\n",
       "      <td>NaN</td>\n",
       "      <td>17.0</td>\n",
       "      <td>5</td>\n",
       "      <td>51.2</td>\n",
       "      <td>43.000000</td>\n",
       "      <td>NaN</td>\n",
       "      <td>NaN</td>\n",
       "      <td>NaN</td>\n",
       "      <td>NaN</td>\n",
       "      <td>NaN</td>\n",
       "      <td>NaN</td>\n",
       "    </tr>\n",
       "    <tr>\n",
       "      <th>2</th>\n",
       "      <td>2</td>\n",
       "      <td>5089</td>\n",
       "      <td>3</td>\n",
       "      <td>McColl</td>\n",
       "      <td>Sean</td>\n",
       "      <td>206.0</td>\n",
       "      <td>2019</td>\n",
       "      <td>CAN</td>\n",
       "      <td>169.0</td>\n",
       "      <td>60.0</td>\n",
       "      <td>32.0</td>\n",
       "      <td>5</td>\n",
       "      <td>41.2</td>\n",
       "      <td>38.500000</td>\n",
       "      <td>63.5</td>\n",
       "      <td>55.800000</td>\n",
       "      <td>50.600000</td>\n",
       "      <td>62.857143</td>\n",
       "      <td>59.333333</td>\n",
       "      <td>59.375</td>\n",
       "    </tr>\n",
       "    <tr>\n",
       "      <th>3</th>\n",
       "      <td>3</td>\n",
       "      <td>14023</td>\n",
       "      <td>4</td>\n",
       "      <td>Harada</td>\n",
       "      <td>Kai</td>\n",
       "      <td>195.0</td>\n",
       "      <td>2019</td>\n",
       "      <td>JPN</td>\n",
       "      <td>NaN</td>\n",
       "      <td>NaN</td>\n",
       "      <td>20.0</td>\n",
       "      <td>5</td>\n",
       "      <td>39.0</td>\n",
       "      <td>18.000000</td>\n",
       "      <td>13.0</td>\n",
       "      <td>NaN</td>\n",
       "      <td>NaN</td>\n",
       "      <td>NaN</td>\n",
       "      <td>NaN</td>\n",
       "      <td>NaN</td>\n",
       "    </tr>\n",
       "    <tr>\n",
       "      <th>4</th>\n",
       "      <td>4</td>\n",
       "      <td>8323</td>\n",
       "      <td>5</td>\n",
       "      <td>Ghisolfi</td>\n",
       "      <td>Stefano</td>\n",
       "      <td>190.0</td>\n",
       "      <td>2019</td>\n",
       "      <td>ITA</td>\n",
       "      <td>170.0</td>\n",
       "      <td>57.0</td>\n",
       "      <td>26.0</td>\n",
       "      <td>5</td>\n",
       "      <td>38.0</td>\n",
       "      <td>77.666667</td>\n",
       "      <td>59.0</td>\n",
       "      <td>59.333333</td>\n",
       "      <td>42.000000</td>\n",
       "      <td>44.714286</td>\n",
       "      <td>33.142857</td>\n",
       "      <td>34.625</td>\n",
       "    </tr>\n",
       "  </tbody>\n",
       "</table>\n",
       "</div>"
      ],
      "text/plain": [
       "   Unnamed: 0     ID  Rank    Last Name First Name  Points  Year country  \\\n",
       "0           0   8372     1        Ondra       Adam   300.0  2019     CZE   \n",
       "1           1  56609     2  Ginés López    Alberto   256.0  2019     ESP   \n",
       "2           2   5089     3       McColl       Sean   206.0  2019     CAN   \n",
       "3           3  14023     4       Harada        Kai   195.0  2019     JPN   \n",
       "4           4   8323     5     Ghisolfi    Stefano   190.0  2019     ITA   \n",
       "\n",
       "   height  weight   age  event_count  avg_points        t-1   t-2        t-3  \\\n",
       "0   185.0    67.0  26.0            3       100.0  55.000000  80.0  51.000000   \n",
       "1     NaN     NaN  17.0            5        51.2  43.000000   NaN        NaN   \n",
       "2   169.0    60.0  32.0            5        41.2  38.500000  63.5  55.800000   \n",
       "3     NaN     NaN  20.0            5        39.0  18.000000  13.0        NaN   \n",
       "4   170.0    57.0  26.0            5        38.0  77.666667  59.0  59.333333   \n",
       "\n",
       "         t-4        t-5        t-6     t-7  \n",
       "0  76.333333  61.142857  90.000000  18.000  \n",
       "1        NaN        NaN        NaN     NaN  \n",
       "2  50.600000  62.857143  59.333333  59.375  \n",
       "3        NaN        NaN        NaN     NaN  \n",
       "4  42.000000  44.714286  33.142857  34.625  "
      ]
     },
     "execution_count": 43,
     "metadata": {},
     "output_type": "execute_result"
    }
   ],
   "source": [
    "M_lead.head()"
   ]
  },
  {
   "cell_type": "markdown",
   "metadata": {},
   "source": [
    "# Cleaning data"
   ]
  },
  {
   "cell_type": "code",
   "execution_count": 44,
   "metadata": {},
   "outputs": [],
   "source": [
    "M_lead.drop(['Unnamed: 0','ID','Rank','Last Name','First Name','Points','country'],axis = 1, inplace = True)\n",
    "M_lead\n",
    "M_lead = M_lead.fillna(0)"
   ]
  },
  {
   "cell_type": "markdown",
   "metadata": {},
   "source": [
    "# Choosing the test and train data\n",
    "random isn't an option because of the"
   ]
  },
  {
   "cell_type": "code",
   "execution_count": 73,
   "metadata": {},
   "outputs": [],
   "source": [
    "#choosing the target and test \n",
    "\n",
    "is_2019_2018 = M_lead['Year'] >=2019\n",
    "test = M_lead[is_2019_2018]\n",
    "X_test = test.drop(['avg_points'],axis = 1)\n",
    "Y_test = test['avg_points']\n",
    "training = M_lead['Year']<=2018\n",
    "train = M_lead[training]\n",
    "X_train = train.drop(['avg_points'],axis = 1)\n",
    "Y_train = train['avg_points']"
   ]
  },
  {
   "cell_type": "code",
   "execution_count": 74,
   "metadata": {},
   "outputs": [
    {
     "name": "stdout",
     "output_type": "stream",
     "text": [
      "12\n"
     ]
    },
    {
     "data": {
      "text/html": [
       "<div>\n",
       "<style scoped>\n",
       "    .dataframe tbody tr th:only-of-type {\n",
       "        vertical-align: middle;\n",
       "    }\n",
       "\n",
       "    .dataframe tbody tr th {\n",
       "        vertical-align: top;\n",
       "    }\n",
       "\n",
       "    .dataframe thead th {\n",
       "        text-align: right;\n",
       "    }\n",
       "</style>\n",
       "<table border=\"1\" class=\"dataframe\">\n",
       "  <thead>\n",
       "    <tr style=\"text-align: right;\">\n",
       "      <th></th>\n",
       "      <th>Year</th>\n",
       "      <th>height</th>\n",
       "      <th>weight</th>\n",
       "      <th>age</th>\n",
       "      <th>event_count</th>\n",
       "      <th>t-1</th>\n",
       "      <th>t-2</th>\n",
       "      <th>t-3</th>\n",
       "      <th>t-4</th>\n",
       "      <th>t-5</th>\n",
       "      <th>t-6</th>\n",
       "      <th>t-7</th>\n",
       "    </tr>\n",
       "  </thead>\n",
       "  <tbody>\n",
       "    <tr>\n",
       "      <th>67</th>\n",
       "      <td>2018</td>\n",
       "      <td>175.0</td>\n",
       "      <td>64.0</td>\n",
       "      <td>28.0</td>\n",
       "      <td>6</td>\n",
       "      <td>88.333333</td>\n",
       "      <td>67.000000</td>\n",
       "      <td>66.000000</td>\n",
       "      <td>73.714286</td>\n",
       "      <td>76.428571</td>\n",
       "      <td>67.250</td>\n",
       "      <td>93.888889</td>\n",
       "    </tr>\n",
       "    <tr>\n",
       "      <th>68</th>\n",
       "      <td>2018</td>\n",
       "      <td>170.0</td>\n",
       "      <td>57.0</td>\n",
       "      <td>25.0</td>\n",
       "      <td>6</td>\n",
       "      <td>59.000000</td>\n",
       "      <td>59.333333</td>\n",
       "      <td>42.000000</td>\n",
       "      <td>44.714286</td>\n",
       "      <td>33.142857</td>\n",
       "      <td>34.625</td>\n",
       "      <td>19.500000</td>\n",
       "    </tr>\n",
       "    <tr>\n",
       "      <th>69</th>\n",
       "      <td>2018</td>\n",
       "      <td>176.0</td>\n",
       "      <td>62.0</td>\n",
       "      <td>24.0</td>\n",
       "      <td>6</td>\n",
       "      <td>46.428571</td>\n",
       "      <td>78.666667</td>\n",
       "      <td>62.666667</td>\n",
       "      <td>58.571429</td>\n",
       "      <td>35.000000</td>\n",
       "      <td>24.375</td>\n",
       "      <td>20.571429</td>\n",
       "    </tr>\n",
       "    <tr>\n",
       "      <th>70</th>\n",
       "      <td>2018</td>\n",
       "      <td>174.0</td>\n",
       "      <td>57.0</td>\n",
       "      <td>36.0</td>\n",
       "      <td>6</td>\n",
       "      <td>68.142857</td>\n",
       "      <td>63.333333</td>\n",
       "      <td>59.000000</td>\n",
       "      <td>59.142857</td>\n",
       "      <td>49.428571</td>\n",
       "      <td>50.250</td>\n",
       "      <td>47.777778</td>\n",
       "    </tr>\n",
       "    <tr>\n",
       "      <th>71</th>\n",
       "      <td>2018</td>\n",
       "      <td>0.0</td>\n",
       "      <td>0.0</td>\n",
       "      <td>29.0</td>\n",
       "      <td>6</td>\n",
       "      <td>28.400000</td>\n",
       "      <td>51.428571</td>\n",
       "      <td>45.875000</td>\n",
       "      <td>40.000000</td>\n",
       "      <td>25.000000</td>\n",
       "      <td>28.000</td>\n",
       "      <td>10.250000</td>\n",
       "    </tr>\n",
       "  </tbody>\n",
       "</table>\n",
       "</div>"
      ],
      "text/plain": [
       "    Year  height  weight   age  event_count        t-1        t-2        t-3  \\\n",
       "67  2018   175.0    64.0  28.0            6  88.333333  67.000000  66.000000   \n",
       "68  2018   170.0    57.0  25.0            6  59.000000  59.333333  42.000000   \n",
       "69  2018   176.0    62.0  24.0            6  46.428571  78.666667  62.666667   \n",
       "70  2018   174.0    57.0  36.0            6  68.142857  63.333333  59.000000   \n",
       "71  2018     0.0     0.0  29.0            6  28.400000  51.428571  45.875000   \n",
       "\n",
       "          t-4        t-5     t-6        t-7  \n",
       "67  73.714286  76.428571  67.250  93.888889  \n",
       "68  44.714286  33.142857  34.625  19.500000  \n",
       "69  58.571429  35.000000  24.375  20.571429  \n",
       "70  59.142857  49.428571  50.250  47.777778  \n",
       "71  40.000000  25.000000  28.000  10.250000  "
      ]
     },
     "execution_count": 74,
     "metadata": {},
     "output_type": "execute_result"
    }
   ],
   "source": [
    "print(len(X_train.columns))\n",
    "X_train.head()"
   ]
  },
  {
   "cell_type": "markdown",
   "metadata": {},
   "source": [
    "# Linear Regression"
   ]
  },
  {
   "cell_type": "code",
   "execution_count": 75,
   "metadata": {},
   "outputs": [
    {
     "name": "stdout",
     "output_type": "stream",
     "text": [
      "MSE Value: 365.1290083081151\n"
     ]
    },
    {
     "data": {
      "image/png": "[encoded data removed]",
      "text/plain": [
       "<Figure size 432x288 with 1 Axes>"
      ]
     },
     "metadata": {
      "needs_background": "light"
     },
     "output_type": "display_data"
    }
   ],
   "source": [
    "Reg = LinearRegression().fit(X_train,Y_train)\n",
    "prediction = Reg.predict(X_test)\n",
    "plt.scatter(range(len(prediction)),prediction, label = 'Prediction')\n",
    "plt.scatter(range(len(prediction)),Y_test, label = 'actual output')\n",
    "plt.title('Predictions and actual results plotted')\n",
    "plt.legend()\n",
    "print(\"MSE Value:\", mean_squared_error(prediction,Y_test))"
   ]
  },
  {
   "cell_type": "markdown",
   "metadata": {},
   "source": [
    "# Decision Tree Regressor"
   ]
  },
  {
   "cell_type": "code",
   "execution_count": 97,
   "metadata": {},
   "outputs": [
    {
     "name": "stdout",
     "output_type": "stream",
     "text": [
      "MSE Value: 611.7724091278302\n"
     ]
    }
   ],
   "source": [
    "Tree_reg = DecisionTreeRegressor(random_state = 0)\n",
    "attempt = Tree_reg.fit(X_train,Y_train)\n",
    "prediction = attempt.predict(X_test)\n",
    "print(\"MSE Value:\", mean_squared_error(prediction,Y_test))"
   ]
  },
  {
   "cell_type": "code",
   "execution_count": 98,
   "metadata": {},
   "outputs": [
    {
     "name": "stdout",
     "output_type": "stream",
     "text": [
      "mean cross validation score: 0.18896262667812164\n"
     ]
    }
   ],
   "source": [
    "# with cross validation\n",
    "dt = DecisionTreeRegressor(random_state=0)\n",
    "dt_fit = dt.fit(X_train, X_train)\n",
    "\n",
    "dt_scores = cross_val_score(dt_fit, X_train, Y_train, cv = 5)\n",
    "print(\"mean cross validation score: {}\".format(np.mean(dt_scores)))"
   ]
  },
  {
   "cell_type": "code",
   "execution_count": null,
   "metadata": {},
   "outputs": [],
   "source": []
  }
 ],
 "metadata": {
  "kernelspec": {
   "display_name": "Python 3",
   "language": "python",
   "name": "python3"
  },
  "language_info": {
   "codemirror_mode": {
    "name": "ipython",
    "version": 3
   },
   "file_extension": ".py",
   "mimetype": "text/x-python",
   "name": "python",
   "nbconvert_exporter": "python",
   "pygments_lexer": "ipython3",
   "version": "3.7.7"
  }
 },
 "nbformat": 4,
 "nbformat_minor": 4
}
