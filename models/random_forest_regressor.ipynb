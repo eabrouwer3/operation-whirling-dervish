{
 "cells": [
  {
   "cell_type": "code",
   "execution_count": 101,
   "metadata": {},
   "outputs": [],
   "source": [
    "from time import time\n",
    "import numpy as np\n",
    "import pandas as pd\n",
    "import matplotlib.pyplot as plt\n",
    "from sklearn.ensemble import RandomForestRegressor\n",
    "from sklearn.metrics import mean_squared_error\n",
    "from sklearn.model_selection import GridSearchCV"
   ]
  },
  {
   "cell_type": "code",
   "execution_count": 97,
   "metadata": {},
   "outputs": [],
   "source": [
    "df = pd.read_pickle('../data/men_lead_lag7.pkl')\n",
    "dummies = pd.get_dummies(df['country'], prefix='c_')\n",
    "df = pd.concat([df, dummies], axis=1)\n",
    "y = df['avg_points']\n",
    "df = df.drop(columns=['ID', 'Rank', 'Last Name', 'First Name', 'Points', \n",
    "                    'country', 'avg_points'])\n",
    "lag_cols = [f't-{i}' for i in range(1, 8)]\n",
    "for col in lag_cols:\n",
    "    df[col] = df[col].fillna(0)\n",
    "\n",
    "# Impute missing values using the median\n",
    "df['height'] = df['height'].fillna(df['height'].median())\n",
    "df['weight'] = df['weight'].fillna(df['weight'].median())\n",
    "df['age'] = df['age'].fillna(df['age'].median())\n",
    "X = df.copy()\n",
    "    \n",
    "# # Drop the physical features\n",
    "# X = df.drop(columns=['height', 'weight', 'age'])\n",
    "\n",
    "X_train = X[X['Year'].isin(np.arange(1991, 2019))]#.to_numpy()\n",
    "y_train = y[X['Year'].isin(np.arange(1991, 2019))]#.to_numpy()\n",
    "X_test = X[X['Year'].isin(np.arange(2019, 2020))]#.to_numpy()\n",
    "y_test = y[X['Year'].isin(np.arange(2019, 2020))]#.to_numpy()\n",
    "X_train = X_train.drop(columns='Year')\n",
    "X_test = X_test.drop(columns='Year')"
   ]
  },
  {
   "cell_type": "code",
   "execution_count": null,
   "metadata": {},
   "outputs": [],
   "source": [
    "# forest = RandomForestRegressor()\n",
    "# forest.fit(X_train, y_train)\n",
    "# preds = forest.predict(X_test)\n",
    "# mse = mean_squared_error(y_test, preds)\n",
    "# print(mse)\n",
    "\n",
    "# plt.scatter(np.arange(len(preds)), preds, alpha=.7, label='Prediction')\n",
    "# plt.scatter(np.arange(len(preds)), y_test.to_numpy(), alpha=.7, label='Truth')\n",
    "# plt.gcf().set_size_inches(11, 5)\n",
    "# plt.grid()\n",
    "# plt.legend()"
   ]
  },
  {
   "cell_type": "code",
   "execution_count": 129,
   "metadata": {},
   "outputs": [
    {
     "name": "stdout",
     "output_type": "stream",
     "text": [
      "Fitting 5 folds for each of 128 candidates, totalling 640 fits\n"
     ]
    },
    {
     "name": "stderr",
     "output_type": "stream",
     "text": [
      "[Parallel(n_jobs=1)]: Using backend SequentialBackend with 1 concurrent workers.\n",
      "[Parallel(n_jobs=1)]: Done 640 out of 640 | elapsed:  3.0min finished\n"
     ]
    }
   ],
   "source": [
    "forest = RandomForestRegressor()\n",
    "parameters = {'n_estimators': [10, 50, 100, 200],\n",
    "             'max_depth': [2, 5, 10, None],\n",
    "             'min_samples_leaf': [1, 2, 5, 10],\n",
    "             'max_features': ['auto', 'sqrt']}\n",
    "start = time()\n",
    "clf = GridSearchCV(forest, parameters, verbose=1, scoring='neg_mean_squared_error')\n",
    "clf.fit(X_train, y_train)\n",
    "end = time()"
   ]
  },
  {
   "cell_type": "code",
   "execution_count": 132,
   "metadata": {},
   "outputs": [
    {
     "name": "stdout",
     "output_type": "stream",
     "text": [
      "389.9742495603846\n"
     ]
    }
   ],
   "source": [
    "best_forest = RandomForestRegressor(**clf.best_params_)\n",
    "best_forest.fit(X_train, y_train)\n",
    "preds = best_forest.predict(X_test)\n",
    "mse = mean_squared_error(y_test, preds)\n",
    "print(mse)"
   ]
  },
  {
   "cell_type": "code",
   "execution_count": 134,
   "metadata": {},
   "outputs": [
    {
     "name": "stdout",
     "output_type": "stream",
     "text": [
      "345.5930410310842\n"
     ]
    }
   ],
   "source": [
    "forest = RandomForestRegressor()\n",
    "forest.fit(X_train, y_train)\n",
    "preds = forest.predict(X_test)\n",
    "mse = mean_squared_error(y_test, preds)\n",
    "print(mse)"
   ]
  },
  {
   "cell_type": "code",
   "execution_count": null,
   "metadata": {},
   "outputs": [],
   "source": []
  }
 ],
 "metadata": {
  "kernelspec": {
   "display_name": "Python 3",
   "language": "python",
   "name": "python3"
  },
  "language_info": {
   "codemirror_mode": {
    "name": "ipython",
    "version": 3
   },
   "file_extension": ".py",
   "mimetype": "text/x-python",
   "name": "python",
   "nbconvert_exporter": "python",
   "pygments_lexer": "ipython3",
   "version": "3.7.7"
  }
 },
 "nbformat": 4,
 "nbformat_minor": 4
}
