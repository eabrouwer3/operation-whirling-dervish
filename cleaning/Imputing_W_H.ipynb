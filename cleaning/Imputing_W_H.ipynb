{
 "cells": [
  {
   "cell_type": "code",
   "execution_count": null,
   "metadata": {},
   "outputs": [],
   "source": [
    "def imput(df)\n",
    "    countries = df.country.unique()\n",
    "    series_h = pd.Series()\n",
    "    series_w = pd.Series()\n",
    "    global_h = np.mean(M_lead.height)\n",
    "    global_w = np.mean(M_lead.weight)\n",
    "\n",
    "    for co in countries:\n",
    "        heights = []\n",
    "        weights = []\n",
    "        group = df[df['country']== co]\n",
    "        count_h = np.count_nonzero(~np.isnan(group.height))\n",
    "        count_w = np.count_nonzero(~np.isnan(group.weight))\n",
    "        if count_h >=5:\n",
    "            avg_h = np.mean(group.height)\n",
    "        else:\n",
    "            avg_h = global_h\n",
    "        if count_w >=5:\n",
    "            avg_w = np.mean(group.weight)\n",
    "        else:\n",
    "            avg_w = global_w\n",
    "        for i in range(len(group)):\n",
    "            if np.isnan(group.iloc[i].height):\n",
    "                heights.append(avg_h)\n",
    "            else:\n",
    "                heights.append(group.iloc[i].height)\n",
    "            if np.isnan(group.iloc[i].weight):\n",
    "                weights.append(avg_w)\n",
    "            else:\n",
    "                weights.append(group.iloc[i].weight)\n",
    "\n",
    "        series_h = pd.concat([series_h,pd.Series(heights)])\n",
    "        series_w = pd.concat([series_w,pd.Series(weights)])  \n",
    "    imputed = M_lead.copy()\n",
    "    imputed.drop(['height'],axis = 1,inplace = True)\n",
    "    imputed.drop(['weight'],axis = 1,inplace = True)\n",
    "    imputed['height'] = list(series_h)\n",
    "    imputed['weight'] = list(series_w)\n",
    "    return imputed\n",
    "  "
   ]
  }
 ],
 "metadata": {
  "kernelspec": {
   "display_name": "Python 3",
   "language": "python",
   "name": "python3"
  },
  "language_info": {
   "codemirror_mode": {
    "name": "ipython",
    "version": 3
   },
   "file_extension": ".py",
   "mimetype": "text/x-python",
   "name": "python",
   "nbconvert_exporter": "python",
   "pygments_lexer": "ipython3",
   "version": "3.7.7"
  }
 },
 "nbformat": 4,
 "nbformat_minor": 4
}
